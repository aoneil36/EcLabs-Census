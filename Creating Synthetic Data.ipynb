{
 "cells": [
  {
   "cell_type": "code",
   "execution_count": 6,
   "id": "0f3e504b",
   "metadata": {},
   "outputs": [
    {
     "name": "stdout",
     "output_type": "stream",
     "text": [
      "Retrieved 3262 FIPS codes.\n"
     ]
    }
   ],
   "source": [
    "import requests\n",
    "\n",
    "fips_url = \"https://transition.fcc.gov/oet/info/maps/census/fips/fips.txt\"\n",
    "\n",
    "response = requests.get(fips_url)\n",
    "fips_codes_raw = response.text\n",
    "\n",
    "fips_codes = []\n",
    "for line in fips_codes_raw.splitlines():\n",
    "    parts = line.split()\n",
    "    if len(parts) >= 2:\n",
    "        fips_code = parts[0]\n",
    "        fips_codes.append(fips_code)\n",
    "\n",
    "print(f\"Retrieved {len(fips_codes)} FIPS codes.\")"
   ]
  },
  {
   "cell_type": "code",
   "execution_count": 7,
   "id": "0a9e3b24",
   "metadata": {},
   "outputs": [
    {
     "name": "stdout",
     "output_type": "stream",
     "text": [
      "Dataset generated and saved to synthetic_dataset.csv\n"
     ]
    }
   ],
   "source": [
    "import pandas as pd\n",
    "import numpy as np\n",
    "import random\n",
    "from datetime import datetime, timedelta\n",
    "\n",
    "mastercard_si_abbr_values = [721, 56, 621, 71, 444, 448, 61, 443, 52, 445, 722, 442, 447, 452, 446, '62X', '51X', 453, 441, 454, 812, 54, 92, 813, 53, 811, 451, 517] + list(range(48, 50)) + list(range(22, 24)) + list(range(31, 33)) + [42]\n",
    "mastercard_si_abbr_values = [str(x) if 'X' not in str(x) else str(x).replace('X', str(random.randint(0, 9))) for x in mastercard_si_abbr_values] * 100\n",
    "card_count_values = [1, 2, 3]\n",
    "\n",
    "def random_dates(start, end, n):\n",
    "    start_u = start.value//10**9\n",
    "    end_u = end.value//10**9\n",
    "    dates = pd.to_datetime(np.random.randint(start_u, end_u, n), unit='s')\n",
    "    return [date.date() for date in dates]\n",
    "\n",
    "n = 1000000\n",
    "start_date = pd.to_datetime('2019-01-01')\n",
    "end_date = pd.to_datetime('2024-02-29')\n",
    "\n",
    "dates = random_dates(start_date, end_date, n)\n",
    "mastercard_si_abbr = random.choices(mastercard_si_abbr_values, k=n)\n",
    "card_count = random.choices(card_count_values, k=n)\n",
    "county_fips = random.choices(fips_codes, k=n)  # Assuming `fips_codes` is defined elsewhere in your code\n",
    "total_spend = np.round(np.random.uniform(0, 1000, n), 2)\n",
    "\n",
    "df = pd.DataFrame({\n",
    "    'date': dates,\n",
    "    'mastercard_si_abbr': mastercard_si_abbr,\n",
    "    'county_fips': county_fips,\n",
    "    'total_spend': total_spend,\n",
    "    'card_count': card_count\n",
    "})\n",
    "\n",
    "# Add the income_quartile column with random values between 1 and 4\n",
    "df['income_quartile'] = np.random.randint(1, 5, df.shape[0])\n",
    "\n",
    "df.to_csv('synthetic_dataset.csv', index=False)\n",
    "\n",
    "print(\"Dataset generated and saved to synthetic_dataset.csv\")"
   ]
  },
  {
   "cell_type": "code",
   "execution_count": 8,
   "id": "a6d5c781",
   "metadata": {},
   "outputs": [],
   "source": [
    "df = pd.read_csv('synthetic_dataset.csv')"
   ]
  },
  {
   "cell_type": "code",
   "execution_count": 9,
   "id": "751002d5",
   "metadata": {},
   "outputs": [
    {
     "name": "stdout",
     "output_type": "stream",
     "text": [
      "              date  mastercard_si_abbr county_fips  total_spend  card_count  \\\n",
      "0       2023-09-17                 447       48315       498.84           3   \n",
      "1       2020-02-29                 813       12089       275.33           1   \n",
      "2       2019-05-29                 517       51167       166.59           1   \n",
      "3       2019-05-02                  23       26075       354.93           3   \n",
      "4       2022-06-26                 443       47053       949.20           2   \n",
      "...            ...                 ...         ...          ...         ...   \n",
      "999995  2021-07-22                 441       39059       839.79           3   \n",
      "999996  2021-09-16                 452       30047       893.25           1   \n",
      "999997  2024-02-11                  42       51097       247.15           2   \n",
      "999998  2023-08-27                  48       29217         9.52           3   \n",
      "999999  2021-03-07                 448       47127       149.13           1   \n",
      "\n",
      "        income_quartile  \n",
      "0                     1  \n",
      "1                     2  \n",
      "2                     2  \n",
      "3                     2  \n",
      "4                     4  \n",
      "...                 ...  \n",
      "999995                2  \n",
      "999996                1  \n",
      "999997                1  \n",
      "999998                3  \n",
      "999999                2  \n",
      "\n",
      "[1000000 rows x 6 columns]\n"
     ]
    }
   ],
   "source": [
    "print(df)"
   ]
  },
  {
   "cell_type": "code",
   "execution_count": null,
   "id": "673f51b1",
   "metadata": {},
   "outputs": [],
   "source": []
  }
 ],
 "metadata": {
  "kernelspec": {
   "display_name": "Python 3 (ipykernel)",
   "language": "python",
   "name": "python3"
  },
  "language_info": {
   "codemirror_mode": {
    "name": "ipython",
    "version": 3
   },
   "file_extension": ".py",
   "mimetype": "text/x-python",
   "name": "python",
   "nbconvert_exporter": "python",
   "pygments_lexer": "ipython3",
   "version": "3.11.5"
  }
 },
 "nbformat": 4,
 "nbformat_minor": 5
}
